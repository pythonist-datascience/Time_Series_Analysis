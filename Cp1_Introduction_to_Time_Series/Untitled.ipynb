{
 "cells": [
  {
   "cell_type": "markdown",
   "metadata": {},
   "source": [
    "# Aim : \n",
    "    1. Understand difference between Time Series Data and Non Time Series Data \n",
    "    2. Appropriate technique for time series problem and internal structure of Time Seires Data\n",
    "    3. Dealing with auto-correlation, which is the single most important internal structure of a time series and is often the primary focus of time series analysis\n",
    "\n"
   ]
  },
  {
   "cell_type": "markdown",
   "metadata": {},
   "source": [
    "# Introduction:\n",
    "    What is Time series Data ? \n",
    "        Sequence of quantitative observations made at successive intervals of time about a process or system.\n",
    "        \n",
    "    What is the purpose of Time Series Data Analysis ?\n",
    "        1. Interpret the underlying Forces/Features that make changes in data over time.\n",
    "        2. Forecase the future state using the understanding of past data over time."
   ]
  },
  {
   "cell_type": "code",
   "execution_count": null,
   "metadata": {},
   "outputs": [],
   "source": []
  }
 ],
 "metadata": {
  "kernelspec": {
   "display_name": "Python 3",
   "language": "python",
   "name": "python3"
  },
  "language_info": {
   "codemirror_mode": {
    "name": "ipython",
    "version": 3
   },
   "file_extension": ".py",
   "mimetype": "text/x-python",
   "name": "python",
   "nbconvert_exporter": "python",
   "pygments_lexer": "ipython3",
   "version": "3.5.4"
  }
 },
 "nbformat": 4,
 "nbformat_minor": 2
}
